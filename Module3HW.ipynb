{
 "cells": [
  {
   "cell_type": "code",
   "execution_count": 2,
   "id": "3148546f",
   "metadata": {},
   "outputs": [
    {
     "data": {
      "text/plain": [
       "dict_keys(['category', 'type', 'joke', 'flags', 'id', 'safe', 'lang'])"
      ]
     },
     "execution_count": 2,
     "metadata": {},
     "output_type": "execute_result"
    }
   ],
   "source": [
    "#Collect and print 10 jokes of the category: “Programming” and the joke type “single”. Start each joke with the joke number, \n",
    "#e.g., “Joke #1: ”, “Joke #2: ”, etc. Separate consecutive jokes by printing a blank line between them. (3 points)\n",
    "from urllib.request import urlopen, Request\n",
    "import json \n",
    "url = 'https://v2.jokeapi.dev/joke/Programming?type=single&amount=10'\n",
    "request = Request(url)\n",
    "request.add_header('User-Agent', 'Mozilla/5.0 (Macintosh; Intel Mac OS X 10_10_1) AppleWebKit/537.36 (KHTML, like Gecko) Chrome/39.0.2171.95 Safari/537.36')\n",
    "response = urlopen(request).read()\n",
    "response_json = json.loads(response)\n",
    "response_json['jokes'][0].keys()\n",
    "\n"
   ]
  },
  {
   "cell_type": "code",
   "execution_count": 3,
   "id": "60fce3cf",
   "metadata": {},
   "outputs": [
    {
     "name": "stdout",
     "output_type": "stream",
     "text": [
      "Joke #1: A man is smoking a cigarette and blowing smoke rings into the air. His girlfriend becomes irritated with the smoke and says \"Can't you see the warning on the cigarette pack? Smoking is hazardous to your health!\" to which the man replies, \"I am a programmer.  We don't worry about warnings; we only worry about errors.\"\n",
      "Joke #2: Today I learned that changing random stuff until your program works is \"hacky\" and a \"bad coding practice\" but if you do it fast enough it's \"Machine Learning\" and pays 4x your current salary.\n",
      "Joke #3: Two C strings walk into a bar.\n",
      "The bartender asks \"What can I get ya?\"\n",
      "The first string says \"I'll have a gin and tonic.\"\n",
      "The second string thinks for a minute, then says \"I'll take a tequila sunriseJF()#$JF(#)$(@J#()$@#())!*FNIN!OBN134ufh1ui34hf9813f8h8384h981h3984h5F!##@\"\n",
      "The first string apologizes, \"You'll have to excuse my friend, he's not null-terminated.\"\n",
      "Joke #4: Saying that Java is nice because it works on every OS is like saying that anal sex is nice because it works on every gender.\n",
      "Joke #5: I'd tell you a joke about NAT but I would have to translate.\n",
      "Joke #6: There are only 10 kinds of people in this world: those who know binary and those who don't.\n",
      "Joke #7: Your mama's so FAT she can't save files bigger than 4GB.\n",
      "Joke #8: A programmer puts two glasses on his bedside table before going to sleep.\n",
      "A full one, in case he gets thirsty, and an empty one, in case he doesn't.\n",
      "Joke #9: I've got a really good UDP joke to tell you but I don’t know if you'll get it.\n",
      "Joke #10: Your momma is so fat, you need to switch to NTFS to store a picture of her.\n"
     ]
    }
   ],
   "source": [
    "print(*[f\"Joke #{i + 1}: {joke['joke']}\" for i, joke in enumerate(response_json['jokes'])], sep=\"\\n\")\n"
   ]
  },
  {
   "cell_type": "code",
   "execution_count": 45,
   "id": "c8e00115",
   "metadata": {},
   "outputs": [
    {
     "name": "stdout",
     "output_type": "stream",
     "text": [
      "Defaulting to user installation because normal site-packages is not writeable\n",
      "Collecting textblob\n",
      "  Downloading textblob-0.17.1-py2.py3-none-any.whl (636 kB)\n",
      "     -------------------------------------- 636.8/636.8 kB 7.9 MB/s eta 0:00:00\n",
      "Requirement already satisfied: nltk>=3.1 in c:\\users\\rasul abdul-salaam\\appdata\\roaming\\python\\python310\\site-packages (from textblob) (3.8.1)\n",
      "Requirement already satisfied: click in c:\\programdata\\anaconda3\\lib\\site-packages (from nltk>=3.1->textblob) (8.0.4)\n",
      "Requirement already satisfied: joblib in c:\\programdata\\anaconda3\\lib\\site-packages (from nltk>=3.1->textblob) (1.1.1)\n",
      "Requirement already satisfied: tqdm in c:\\programdata\\anaconda3\\lib\\site-packages (from nltk>=3.1->textblob) (4.64.1)\n",
      "Requirement already satisfied: regex>=2021.8.3 in c:\\programdata\\anaconda3\\lib\\site-packages (from nltk>=3.1->textblob) (2022.7.9)\n",
      "Requirement already satisfied: colorama in c:\\programdata\\anaconda3\\lib\\site-packages (from click->nltk>=3.1->textblob) (0.4.6)\n",
      "Installing collected packages: textblob\n",
      "Successfully installed textblob-0.17.1\n"
     ]
    }
   ],
   "source": [
    "!pip install textblob\n"
   ]
  },
  {
   "cell_type": "code",
   "execution_count": 4,
   "id": "0d1a5a93",
   "metadata": {},
   "outputs": [
    {
     "name": "stdout",
     "output_type": "stream",
     "text": [
      "Joke #1: A man is smoking a cigarette and blowing smoke rings into the air. His girlfriend becomes irritated with the smoke and says \"Can't you see the warning on the cigarette pack? Smoking is hazardous to your health!\" to which the man replies, \"I am a programmer.  We don't worry about warnings; we only worry about errors.\"\n",
      "Joke #2: Today I learned that changing random stuff until your program works is \"hacky\" and a \"bad coding practice\" but if you do it fast enough it's \"Machine Learning\" and pays 4x your current salary.\n",
      "Joke #3: Two C strings walk into a bar.\n",
      "The bartender asks \"What can I get ya?\"\n",
      "The first string says \"I'll have a gin and tonic.\"\n",
      "The second string thinks for a minute, then says \"I'll take a tequila sunriseJF()#$JF(#)$(@J#()$@#())!*FNIN!OBN134ufh1ui34hf9813f8h8384h981h3984h5F!##@\"\n",
      "The first string apologizes, \"You'll have to excuse my friend, he's not null-terminated.\"\n",
      "Joke #4: Saying that Java is nice because it works on every OS is like saying that anal sex is nice because it works on every gender.\n",
      "Joke #5: I'd tell you a joke about NAT but I would have to translate.\n",
      "Joke #6: There are only 10 kinds of people in this world: those who know binary and those who don't.\n",
      "Joke #7: Your mama's so FAT she can't save files bigger than 4GB.\n",
      "Joke #8: A programmer puts two glasses on his bedside table before going to sleep.\n",
      "A full one, in case he gets thirsty, and an empty one, in case he doesn't.\n",
      "Joke #9: I've got a really good UDP joke to tell you but I don’t know if you'll get it.\n",
      "Joke #10: Your momma is so fat, you need to switch to NTFS to store a picture of her.\n"
     ]
    },
    {
     "data": {
      "text/plain": [
       "TextBlob(\"None\")"
      ]
     },
     "execution_count": 4,
     "metadata": {},
     "output_type": "execute_result"
    }
   ],
   "source": [
    "from textblob import TextBlob\n",
    "jokes = print(*[f\"Joke #{i + 1}: {joke['joke']}\" for i, joke in enumerate(response_json['jokes'])], sep=\"\\n\")\n",
    "jokes\n",
    "body = jokes\n",
    "w = TextBlob(str(body))\n",
    "w"
   ]
  },
  {
   "cell_type": "code",
   "execution_count": 15,
   "id": "fcd93f11",
   "metadata": {},
   "outputs": [
    {
     "name": "stderr",
     "output_type": "stream",
     "text": [
      "[nltk_data] Downloading package punkt to C:\\Users\\Rasul Abdul-\n",
      "[nltk_data]     Salaam\\AppData\\Roaming\\nltk_data...\n",
      "[nltk_data]   Unzipping tokenizers\\punkt.zip.\n",
      "[nltk_data] Downloading package brown to C:\\Users\\Rasul Abdul-\n",
      "[nltk_data]     Salaam\\AppData\\Roaming\\nltk_data...\n",
      "[nltk_data]   Unzipping corpora\\brown.zip.\n",
      "[nltk_data] Downloading package averaged_perceptron_tagger to\n",
      "[nltk_data]     C:\\Users\\Rasul Abdul-\n",
      "[nltk_data]     Salaam\\AppData\\Roaming\\nltk_data...\n",
      "[nltk_data]   Unzipping taggers\\averaged_perceptron_tagger.zip.\n"
     ]
    },
    {
     "data": {
      "text/plain": [
       "True"
      ]
     },
     "execution_count": 15,
     "metadata": {},
     "output_type": "execute_result"
    }
   ],
   "source": [
    "import nltk\n",
    "nltk.download('punkt')\n",
    "nltk.download('brown')\n",
    "nltk.download('averaged_perceptron_tagger')\n"
   ]
  },
  {
   "cell_type": "code",
   "execution_count": 5,
   "id": "d3495f73",
   "metadata": {},
   "outputs": [
    {
     "name": "stdout",
     "output_type": "stream",
     "text": [
      "Joke1: Sentiment(polarity=0.5, subjectivity=0.4375)\n",
      "Joke2: Sentiment(polarity=-0.033333333333333326, subjectivity=0.5)\n",
      "Joke3: Sentiment(polarity=0.0, subjectivity=0.0)\n",
      "Joke4: Sentiment(polarity=0.0, subjectivity=0.0)\n",
      "Joke5: Sentiment(polarity=-0.30000000000000004, subjectivity=0.39999999999999997)\n",
      "Joke6: Sentiment(polarity=0.0, subjectivity=0.1)\n",
      "Joke7: Sentiment(polarity=-0.20000000000000004, subjectivity=0.26666666666666666)\n",
      "Joke8: Sentiment(polarity=0.0, subjectivity=0.0)\n",
      "Joke9: Sentiment(polarity=0.7, subjectivity=0.6000000000000001)\n",
      "Joke10: Sentiment(polarity=0.0, subjectivity=0.0)\n"
     ]
    }
   ],
   "source": [
    "jokes_List = [\n",
    "    \"Have a great weekend! I hope your code behaves the same on Monday as it did on Friday.\",\n",
    "    \"The generation of random numbers is too important to be left to chance.\",\n",
    "    \"Java and C were telling jokes. It was C's turn, so he writes something on the wall, points to it and says 'Do you get the reference?' But Java didn't.\",\n",
    "    \"Judge: 'I sentence you to the maximum punishment...' Me (thinking): 'Please be death, please be death...' Judge: 'Learn Java!' Me: 'Damn.'\",\n",
    "    \"Java is like Alzheimer's, it starts off slow, but eventually, your memory is gone.\",\n",
    "    \"// This line doesn't actually do anything, but the code stops working when I delete it.\",\n",
    "    \"Four engineers get into a car. The car won't start. The Mechanical engineer says 'It's a broken starter'. The Electrical engineer says 'Dead battery'. The Chemical engineer says 'Impurities in the gasoline'. The IT engineer says 'Hey guys, I have an idea: How about we all get out of the car and get back in'.\",\n",
    "    \"I have a joke about Stack Overflow, but you would say it's a duplicate.\",\n",
    "    \"I've got a really good UDP joke to tell you but I don’t know if you'll get it.\",\n",
    "    \"Two SQL tables sit at the bar. A query approaches and asks 'Can I join you?'\"\n",
    "]\n",
    "\n",
    "for i, joke in enumerate(jokes_List, start=1):\n",
    "    b = TextBlob(joke)\n",
    "    score = b.sentiment\n",
    "    print(f\"Joke{i}: {score}\")"
   ]
  },
  {
   "cell_type": "code",
   "execution_count": 29,
   "id": "3b1b4c2f",
   "metadata": {},
   "outputs": [
    {
     "name": "stdout",
     "output_type": "stream",
     "text": [
      "{   \"// This line doesn't actually do anything, but the code stops working when I delete it.\": Sentiment(polarity=0.0, subjectivity=0.1),\n",
      "    \"Four engineers get into a car. The car won't start. The Mechanical engineer says 'It's a broken starter'. The Electrical engineer says 'Dead battery'. The Chemical engineer says 'Impurities in the gasoline'. The IT engineer says 'Hey guys, I have an idea: How about we all get out of the car and get back in'.\": Sentiment(polarity=-0.20000000000000004, subjectivity=0.26666666666666666),\n",
      "    'Have a great weekend! I hope your code behaves the same on Monday as it did on Friday.': Sentiment(polarity=0.5, subjectivity=0.4375),\n",
      "    \"I have a joke about Stack Overflow, but you would say it's a duplicate.\": Sentiment(polarity=0.0, subjectivity=0.0),\n",
      "    \"I've got a really good UDP joke to tell you but I don’t know if you'll get it.\": Sentiment(polarity=0.7, subjectivity=0.6000000000000001),\n",
      "    \"Java and C were telling jokes. It was C's turn, so he writes something on the wall, points to it and says 'Do you get the reference?' But Java didn't.\": Sentiment(polarity=0.0, subjectivity=0.0),\n",
      "    \"Java is like Alzheimer's, it starts off slow, but eventually, your memory is gone.\": Sentiment(polarity=-0.30000000000000004, subjectivity=0.39999999999999997),\n",
      "    \"Judge: 'I sentence you to the maximum punishment...' Me (thinking): 'Please be death, please be death...' Judge: 'Learn Java!' Me: 'Damn.'\": Sentiment(polarity=0.0, subjectivity=0.0),\n",
      "    'The generation of random numbers is too important to be left to chance.': Sentiment(polarity=-0.033333333333333326, subjectivity=0.5),\n",
      "    \"Two SQL tables sit at the bar. A query approaches and asks 'Can I join you?'\": Sentiment(polarity=0.0, subjectivity=0.0)}\n"
     ]
    }
   ],
   "source": [
    "import pprint\n",
    "jokes_Dictionary = {}\n",
    "for i, joke in enumerate(jokes_List, start=1):\n",
    "    b = TextBlob(joke)\n",
    "    score = b.sentiment\n",
    "    jokes_Dictionary.update({joke: score})\n",
    "    \n",
    "pp = pprint.PrettyPrinter(indent=4, width = 500)\n",
    "pp.pprint(jokes_Dictionary)"
   ]
  },
  {
   "cell_type": "code",
   "execution_count": 27,
   "id": "2b73403d",
   "metadata": {},
   "outputs": [
    {
     "name": "stdout",
     "output_type": "stream",
     "text": [
      "Joke #1: Your momma is so fat, you need to switch to NTFS to store a picture of her.\n",
      " ***** \n",
      "Joke #2: Saying that Java is nice because it works on every OS is like saying that anal sex is nice because it works on every gender.\n",
      " ***** \n",
      "Joke #3: Hey Girl,\n",
      "Roses are #ff0000,\n",
      "Violets are #0000ff,\n",
      "I use hex codes,\n",
      "But I'd use RGB for you.\n",
      " ***** \n",
      "Joke #4: Debugging is like being the detective in a crime movie where you're also the murderer at the same time.\n",
      " ***** \n",
      "Joke #5: A SQL statement walks into a bar and sees two tables.\n",
      "It approaches, and asks \"may I join you?\"\n"
     ]
    }
   ],
   "source": [
    "url2 = \"https://icanhazdadjoke.com/search?term=dad\"\n",
    "request2 = Request(url)\n",
    "request2.add_header('User-Agent', 'Mozilla/5.0 (Macintosh; Intel Mac OS X 10_10_1) AppleWebKit/537.36 (KHTML, like Gecko) Chrome/39.0.2171.95 Safari/537.36')\n",
    "response2 = urlopen(request2).read()\n",
    "response_json2 = json.loads(response2)\n",
    "response_json2['jokes']\n",
    "print(*[f\"Joke #{i + 1}: {joke['joke']}\" for i, joke in enumerate(response_json2['jokes'][:5])], sep=\"\\n ***** \\n\")"
   ]
  },
  {
   "cell_type": "code",
   "execution_count": null,
   "id": "f4ce72be",
   "metadata": {},
   "outputs": [],
   "source": []
  }
 ],
 "metadata": {
  "kernelspec": {
   "display_name": "Python 3 (ipykernel)",
   "language": "python",
   "name": "python3"
  },
  "language_info": {
   "codemirror_mode": {
    "name": "ipython",
    "version": 3
   },
   "file_extension": ".py",
   "mimetype": "text/x-python",
   "name": "python",
   "nbconvert_exporter": "python",
   "pygments_lexer": "ipython3",
   "version": "3.10.9"
  }
 },
 "nbformat": 4,
 "nbformat_minor": 5
}
